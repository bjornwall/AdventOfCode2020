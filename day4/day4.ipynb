{
 "cells": [
  {
   "cell_type": "markdown",
   "metadata": {},
   "source": [
    "# AoC 2020\n",
    "\n",
    "## Day 4 - part 1\n",
    "\n",
    "--- Day 4: Passport Processing ---\n",
    "You arrive at the airport only to realize that you grabbed your North Pole Credentials instead of your passport. While these documents are extremely similar, North Pole Credentials aren't issued by a country and therefore aren't actually valid documentation for travel in most of the world.\n",
    "\n",
    "It seems like you're not the only one having problems, though; a very long line has formed for the automatic passport scanners, and the delay could upset your travel itinerary.\n",
    "\n",
    "Due to some questionable network security, you realize you might be able to solve both of these problems at the same time.\n",
    "\n",
    "The automatic passport scanners are slow because they're having trouble detecting which passports have all required fields. The expected fields are as follows:\n",
    "\n",
    "byr (Birth Year)  \n",
    "iyr (Issue Year)  \n",
    "eyr (Expiration Year)  \n",
    "hgt (Height)  \n",
    "hcl (Hair Color)  \n",
    "ecl (Eye Color)  \n",
    "pid (Passport ID)  \n",
    "cid (Country ID)  \n",
    "\n",
    "Passport data is validated in batch files (your puzzle input). Each passport is represented as a sequence of key:value pairs separated by spaces or newlines. Passports are separated by blank lines.\n",
    "\n",
    "Here is an example batch file containing four passports:\n",
    "\n",
    "ecl:gry pid:860033327 eyr:2020 hcl:#fffffd  \n",
    "byr:1937 iyr:2017 cid:147 hgt:183cm  \n",
    "\n",
    "iyr:2013 ecl:amb cid:350 eyr:2023 pid:028048884  \n",
    "hcl:#cfa07d byr:1929  \n",
    "\n",
    "hcl:#ae17e1 iyr:2013  \n",
    "eyr:2024  \n",
    "ecl:brn pid:760753108 byr:1931  \n",
    "hgt:179cm  \n",
    "\n",
    "hcl:#cfa07d eyr:2025 pid:166559648  \n",
    "iyr:2011 ecl:brn hgt:59in  \n",
    "The first passport is valid - all eight fields are present.  \n",
    "The second passport is invalid - it is missing hgt (the Height field).\n",
    "\n",
    "The third passport is interesting; the only missing field is cid, so it looks like data from North Pole Credentials, not a passport at all! Surely, nobody would mind if you made the system temporarily ignore missing cid fields. Treat this \"passport\" as valid.\n",
    "\n",
    "The fourth passport is missing two fields, cid and byr. Missing cid is fine, but missing any other field is not, so this passport is invalid.\n",
    "\n",
    "According to the above rules, your improved system would report 2 valid passports.\n",
    "\n",
    "Count the number of valid passports - those that have all required fields. Treat cid as optional. In your batch file, how many passports are valid?"
   ]
  },
  {
   "cell_type": "code",
   "execution_count": 1,
   "metadata": {},
   "outputs": [],
   "source": [
    "import re"
   ]
  },
  {
   "cell_type": "code",
   "execution_count": 2,
   "metadata": {},
   "outputs": [],
   "source": [
    "with open('input.txt', 'r', encoding = 'UTF-8') as input_file:\n",
    "    raw_passports = [p.replace('\\n',' ') for p in re.split(r'\\n\\n', input_file.read())]"
   ]
  },
  {
   "cell_type": "code",
   "execution_count": 3,
   "metadata": {},
   "outputs": [
    {
     "name": "stdout",
     "output_type": "stream",
     "text": [
      "count: 285\n"
     ]
    }
   ],
   "source": [
    "passports = []\n",
    "for i, v in enumerate(raw_passports):\n",
    "    pieces = v.split()\n",
    "    ppt_dict = {}\n",
    "    for j, w in enumerate(pieces):\n",
    "        kv = w.split(':')        \n",
    "        ppt_dict[kv[0]] = kv[1]\n",
    "    passports.append(ppt_dict)\n",
    "print(f\"count: {len(passports)}\")"
   ]
  },
  {
   "cell_type": "code",
   "execution_count": 4,
   "metadata": {},
   "outputs": [],
   "source": [
    "required_fields = ['byr', 'iyr', 'eyr', 'hgt', 'hcl', 'ecl', 'pid']\n",
    "optional_fields = ['cid']"
   ]
  },
  {
   "cell_type": "code",
   "execution_count": 5,
   "metadata": {},
   "outputs": [
    {
     "name": "stdout",
     "output_type": "stream",
     "text": [
      "valid_passports_count: 208\n"
     ]
    }
   ],
   "source": [
    "valid_passports_count = 0\n",
    "for i, p in enumerate(passports):\n",
    "    pieces_matched = 0\n",
    "    for k, v in enumerate(required_fields): # for each required field\n",
    "        if (p.get(v, 0) != 0): # check it's present in the passport\n",
    "            pieces_matched += 1\n",
    "    if (pieces_matched == len(required_fields)):\n",
    "        valid_passports_count +=1\n",
    "\n",
    "print(f\"valid_passports_count: {valid_passports_count}\")        "
   ]
  },
  {
   "cell_type": "markdown",
   "metadata": {},
   "source": [
    "## Part 2\n",
    "\n",
    "--- Part Two ---\n",
    "The line is moving more quickly now, but you overhear airport security talking about how passports with invalid data are getting through. Better add some data validation, quick!\n",
    "\n",
    "You can continue to ignore the cid field, but each other field has strict rules about what values are valid for automatic validation:\n",
    "\n",
    "byr (Birth Year) - four digits; at least 1920 and at most 2002.  \n",
    "iyr (Issue Year) - four digits; at least 2010 and at most 2020.  \n",
    "eyr (Expiration Year) - four digits; at least 2020 and at most 2030.  \n",
    "hgt (Height) - a number followed by either cm or in:  \n",
    "If cm, the number must be at least 150 and at most 193.  \n",
    "If in, the number must be at least 59 and at most 76.  \n",
    "hcl (Hair Color) - a # followed by exactly six characters 0-9 or a-f.  \n",
    "ecl (Eye Color) - exactly one of: amb blu brn gry grn hzl oth.  \n",
    "pid (Passport ID) - a nine-digit number, including leading zeroes.  \n",
    "cid (Country ID) - ignored, missing or not.  \n",
    "Your job is to count the passports where all required fields are both present and valid according to the above rules. Here are some example values:  \n",
    "  \n",
    "byr valid:   2002  \n",
    "byr invalid: 2003  \n",
    "  \n",
    "hgt valid:   60in  \n",
    "hgt valid:   190cm  \n",
    "hgt invalid: 190in  \n",
    "hgt invalid: 190  \n",
    "  \n",
    "hcl valid:   #123abc  \n",
    "hcl invalid: #123abz  \n",
    "hcl invalid: 123abc  \n",
    "  \n",
    "ecl valid:   brn  \n",
    "ecl invalid: wat  \n",
    "  \n",
    "pid valid:   000000001  \n",
    "pid invalid: 0123456789  \n",
    "Here are some invalid passports:  \n",
    "\n",
    "eyr:1972 cid:100\n",
    "hcl:#18171d ecl:amb hgt:170 pid:186cm iyr:2018 byr:1926\n",
    "\n",
    "iyr:2019\n",
    "hcl:#602927 eyr:1967 hgt:170cm\n",
    "ecl:grn pid:012533040 byr:1946\n",
    "\n",
    "hcl:dab227 iyr:2012\n",
    "ecl:brn hgt:182cm pid:021572410 eyr:2020 byr:1992 cid:277\n",
    "\n",
    "hgt:59cm ecl:zzz\n",
    "eyr:2038 hcl:74454a iyr:2023\n",
    "pid:3556412378 byr:2007\n",
    "Here are some valid passports:\n",
    "\n",
    "pid:087499704 hgt:74in ecl:grn iyr:2012 eyr:2030 byr:1980\n",
    "hcl:#623a2f\n",
    "\n",
    "eyr:2029 ecl:blu cid:129 byr:1989\n",
    "iyr:2014 pid:896056539 hcl:#a97842 hgt:165cm\n",
    "\n",
    "hcl:#888785\n",
    "hgt:164cm byr:2001 iyr:2015 cid:88\n",
    "pid:545766238 ecl:hzl\n",
    "eyr:2022\n",
    "\n",
    "iyr:2010 hgt:158cm hcl:#b6652a ecl:blu byr:1944 eyr:2021 pid:093154719\n",
    "Count the number of valid passports - those that have all required fields and valid values. Continue to treat cid as optional. In your batch file, how many passports are valid?"
   ]
  },
  {
   "cell_type": "code",
   "execution_count": 6,
   "metadata": {},
   "outputs": [],
   "source": [
    "import nltk\n",
    "import re"
   ]
  },
  {
   "cell_type": "code",
   "execution_count": 7,
   "metadata": {},
   "outputs": [],
   "source": [
    "def get_passports(filename):\n",
    "    with open(filename, 'r', encoding = 'UTF-8') as input_file:\n",
    "        raw_passports = [p.replace('\\n',' ') for p in re.split(r'\\n\\n', input_file.read())]\n",
    "\n",
    "    passports = []\n",
    "    for i, v in enumerate(raw_passports):\n",
    "        pieces = v.split()\n",
    "        ppt_dict = {}\n",
    "        for j, w in enumerate(pieces):\n",
    "            kv = w.split(':')        \n",
    "            ppt_dict[kv[0]] = kv[1]\n",
    "        passports.append(ppt_dict)\n",
    "    \n",
    "    return passports"
   ]
  },
  {
   "cell_type": "code",
   "execution_count": 8,
   "metadata": {},
   "outputs": [],
   "source": [
    "required_fields = ['byr', 'iyr', 'eyr', 'hgt', 'hcl', 'ecl', 'pid']"
   ]
  },
  {
   "cell_type": "code",
   "execution_count": 9,
   "metadata": {},
   "outputs": [],
   "source": [
    "def validate_field(key, value):\n",
    "    passed = True\n",
    "    blocker_msg = None\n",
    "    \n",
    "    for q in range(1):    \n",
    "        if (value == 0): # check required value is at all present in the passport\n",
    "            passed = False\n",
    "            blocker_msg = 'Not present.'\n",
    "            break\n",
    "\n",
    "        # byr (Birth Year) - four digits; at least 1920 and at most 2002.\n",
    "        if (key == 'byr'):            \n",
    "            match = re.compile(r'[0-9]{4}').match(value) # exactly four digits\n",
    "            if not match or int(value) < 1920 or int(value) > 2002:\n",
    "                passed = False\n",
    "                blocker_msg = value\n",
    "                break\n",
    "\n",
    "        # iyr (Issue Year) - four digits; at least 2010 and at most 2020.\n",
    "        if (key == 'iyr'):            \n",
    "            match = re.compile(r'[0-9]{4}').match(value) \n",
    "            if not match or int(value) < 2010 or int(value) > 2020:\n",
    "                passed = False\n",
    "                blocker_msg = value\n",
    "                break\n",
    "\n",
    "        # eyr (Expiration Year) - four digits; at least 2020 and at most 2030.\n",
    "        if (key == 'eyr'):            \n",
    "            match = re.compile(r'[0-9]{4}').match(value) \n",
    "            if not match or int(value) < 2020 or int(value) > 2030:\n",
    "                passed = False\n",
    "                blocker_msg = value\n",
    "                break\n",
    "\n",
    "        # hgt (Height) - a number followed by either cm or in:\n",
    "            # If cm, the number must be at least 150 and at most 193.\n",
    "            # If in, the number must be at least 59 and at most 76.\n",
    "        if (key == 'hgt'):  \n",
    "            if not re.compile(r'^[0-9]+[cm|in]{1}').match(value):\n",
    "                passed = False\n",
    "                blocker_msg = value + ': wrong format'\n",
    "                break\n",
    "            tp = re.findall(r'(cm|in)$', value)[0]\n",
    "            hgt = int(re.findall(r'^([0-9]+)', value)[0])\n",
    " \n",
    "            if (tp == 'cm' and (hgt < 150 or hgt > 193)):\n",
    "                passed = False\n",
    "                blocker_msg = value + ': cm, too short or high.'\n",
    "                break\n",
    "            elif(tp == 'in' and (hgt < 59 or hgt > 76)):\n",
    "                passed = False\n",
    "                blocker_msg = value + ': in, too short or high.'\n",
    "                break\n",
    "\n",
    "        # hcl (Hair Color) - a # followed by exactly six characters 0-9 or a-f.\n",
    "        if (key == 'hcl'):  \n",
    "            if not re.compile(r'^#[0-9a-f]{6}$').match(value):\n",
    "                passed = False\n",
    "                blocker_msg = value\n",
    "                break\n",
    "\n",
    "        # ecl (Eye Color) - exactly one of: amb blu brn gry grn hzl oth.\n",
    "        if (key == 'ecl'):  \n",
    "            if not re.compile(r'^amb|blu|brn|gry|grn|hzl|oth').match(value):\n",
    "                passed = False\n",
    "                blocker_msg = value\n",
    "                break\n",
    "\n",
    "        # pid (Passport ID) - a nine-digit number, including leading zeroes.\n",
    "        if (key == 'pid'):  \n",
    "            if not re.compile(r'^[0-9]{9}$').match(value):\n",
    "                passed = False\n",
    "                blocker_msg = value\n",
    "                break\n",
    "                \n",
    "    return passed, blocker_msg"
   ]
  },
  {
   "cell_type": "code",
   "execution_count": 10,
   "metadata": {},
   "outputs": [],
   "source": [
    "def test_validate_field():\n",
    "    test_list_valids = [('byr', '2002'), ('hgt', '60in'), ('hgt', '190cm'), ('hcl', '#123abc'), ('ecl', 'brn'), ('pid', '000000001')]\n",
    "    test_list_invalids = [('byr', '2003'), ('hgt', '190in'), ('hgt', '190'), ('hcl', '#123abz'), ('hcl', '123abc'),('ecl', 'wat'), ('ecl', 'utc'), ('pid', '0123456789')]\n",
    "    all_passed = True\n",
    "    \n",
    "    for i, v in enumerate(test_list_valids): # all valid fields\n",
    "        passed, blocker_msg = validate_field(v[0], v[1])\n",
    "        if not passed:\n",
    "            all_passed = False\n",
    "            print(f\"\\nValid example {i}:{v} failed: {blocker_msg}\")\n",
    "            \n",
    "    for i, v in enumerate(test_list_invalids): # all INvalid fields\n",
    "        passed, blocker_msg = validate_field(v[0], v[1])\n",
    "        if passed:\n",
    "            all_passed = False\n",
    "            print(f\"\\nInvalid example {i}:{v} erroneously passed\")\n",
    "            \n",
    "    return all_passed"
   ]
  },
  {
   "cell_type": "code",
   "execution_count": 11,
   "metadata": {},
   "outputs": [
    {
     "data": {
      "text/plain": [
       "True"
      ]
     },
     "execution_count": 11,
     "metadata": {},
     "output_type": "execute_result"
    }
   ],
   "source": [
    "test_validate_field() "
   ]
  },
  {
   "cell_type": "code",
   "execution_count": 12,
   "metadata": {},
   "outputs": [],
   "source": [
    "def validate_passport(ppt_dict):\n",
    "    passport_passed = False\n",
    "    fields_matched = []\n",
    "    blockers = {}\n",
    "    for i, k in enumerate(required_fields): # for each required field\n",
    "        field_passed, blocker_msg = validate_field(k, ppt_dict.get(k, 0))        \n",
    "        if (field_passed):\n",
    "            fields_matched.append(k)\n",
    "        else:\n",
    "            blockers[k] = blocker_msg\n",
    "            \n",
    "        if (len(fields_matched) == len(required_fields)):        \n",
    "            passport_passed = True\n",
    "    return passport_passed, blockers, fields_matched"
   ]
  },
  {
   "cell_type": "code",
   "execution_count": 13,
   "metadata": {},
   "outputs": [],
   "source": [
    "def print_passport(p, i):\n",
    "    print(f\"\\nPassport {i}:\", end = ' ')\n",
    "    for r in required_fields:\n",
    "        print(f\"{r}: {p.get(r, 0)}\", end = ' ')"
   ]
  },
  {
   "cell_type": "code",
   "execution_count": 14,
   "metadata": {},
   "outputs": [],
   "source": [
    "passports = get_passports('input.txt')"
   ]
  },
  {
   "cell_type": "code",
   "execution_count": 15,
   "metadata": {
    "scrolled": true
   },
   "outputs": [],
   "source": [
    "valid_passports_count = 0\n",
    "ppt_bools = []\n",
    "for i, p in enumerate(passports):     \n",
    "    vals = validate_passport(p)\n",
    "    if vals[0]:\n",
    "        valid_passports_count +=1\n",
    "        ppt_bools.append(1)\n",
    "    else:\n",
    "        ppt_bools.append(0)\n",
    "        #print(f\"blocker: {vals[1]} (matched on: {vals[2]})\")    "
   ]
  },
  {
   "cell_type": "code",
   "execution_count": 17,
   "metadata": {},
   "outputs": [
    {
     "name": "stdout",
     "output_type": "stream",
     "text": [
      "valid_passports_count: 167 out of 285.\n"
     ]
    }
   ],
   "source": [
    "print(f\"valid_passports_count: {valid_passports_count} out of {len(passports)}.\")    "
   ]
  }
 ],
 "metadata": {
  "kernelspec": {
   "display_name": "NLP-tensorflow",
   "language": "python",
   "name": "python3"
  },
  "language_info": {
   "codemirror_mode": {
    "name": "ipython",
    "version": 3
   },
   "file_extension": ".py",
   "mimetype": "text/x-python",
   "name": "python",
   "nbconvert_exporter": "python",
   "pygments_lexer": "ipython3",
   "version": "3.8.6"
  }
 },
 "nbformat": 4,
 "nbformat_minor": 4
}
