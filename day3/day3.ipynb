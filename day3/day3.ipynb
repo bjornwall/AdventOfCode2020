{
 "cells": [
  {
   "cell_type": "markdown",
   "metadata": {},
   "source": [
    "# Advent of code 2020 - day 3\n",
    "\n",
    "https://adventofcode.com/2020/day/3\n",
    "\n",
    "## Part 1\n",
    "\n",
    "--- Day 3: Toboggan Trajectory ---\n",
    "With the toboggan login problems resolved, you set off toward the airport. While travel by toboggan might be easy, it's certainly not safe: there's very minimal steering and the area is covered in trees. You'll need to see which angles will take you near the fewest trees.  \n",
    "\n",
    "Due to the local geology, trees in this area only grow on exact integer coordinates in a grid. You make a map (your puzzle input) of the open squares (.) and trees (#) you can see. For example:  \n",
    "\n",
    "..##.......  \n",
    "#...#...#..  \n",
    ".#....#..#.  \n",
    "..#.#...#.#  \n",
    ".#...##..#.  \n",
    "..#.##.....  \n",
    ".#.#.#....#  \n",
    ".#........#  \n",
    "#.##...#...  \n",
    "#...##....#  \n",
    ".#..#...#.#  \n",
    "\n",
    "These aren't the only trees, though; due to something you read about once involving arboreal genetics and biome stability, the same pattern repeats to the right many times:\n",
    "\n",
    "\n",
    "..##.........##.........##.........##.........##.........##.......  --->  \n",
    "#...#...#..#...#...#..#...#...#..#...#...#..#...#...#..#...#...#..  \n",
    ".#....#..#..#....#..#..#....#..#..#....#..#..#....#..#..#....#..#.  \n",
    "..#.#...#.#..#.#...#.#..#.#...#.#..#.#...#.#..#.#...#.#..#.#...#.#  \n",
    ".#...##..#..#...##..#..#...##..#..#...##..#..#...##..#..#...##..#.  \n",
    "..#.##.......#.##.......#.##.......#.##.......#.##.......#.##.....  --->  \n",
    ".#.#.#....#.#.#.#....#.#.#.#....#.#.#.#....#.#.#.#....#.#.#.#....#  \n",
    ".#........#.#........#.#........#.#........#.#........#.#........#  \n",
    "#.##...#...#.##...#...#.##...#...#.##...#...#.##...#...#.##...#...  \n",
    "#...##....##...##....##...##....##...##....##...##....##...##....#  \n",
    ".#..#...#.#.#..#...#.#.#..#...#.#.#..#...#.#.#..#...#.#.#..#...#.#  --->  \n",
    "\n",
    "You start on the open square (.) in the top-left corner and need to reach the bottom (below the bottom-most row on your map).\n",
    "\n",
    "The toboggan can only follow a few specific slopes (you opted for a cheaper model that prefers rational numbers); start by counting all the trees you would encounter for the slope right 3, down 1:\n",
    "\n",
    "From your starting position at the top-left, check the position that is right 3 and down 1. Then, check the position that is right 3 and down 1 from there, and so on until you go past the bottom of the map.\n",
    "\n",
    "The locations you'd check in the above example are marked here with O where there was an open square and X where there was a tree:\n",
    "\n",
    "..##.........##.........##.........##.........##.........##.......  --->  \n",
    "#..O#...#..#...#...#..#...#...#..#...#...#..#...#...#..#...#...#..  \n",
    ".#....X..#..#....#..#..#....#..#..#....#..#..#....#..#..#....#..#.  \n",
    "..#.#...#O#..#.#...#.#..#.#...#.#..#.#...#.#..#.#...#.#..#.#...#.#  \n",
    ".#...##..#..X...##..#..#...##..#..#...##..#..#...##..#..#...##..#.  \n",
    "..#.##.......#.X#.......#.##.......#.##.......#.##.......#.##.....  --->  \n",
    ".#.#.#....#.#.#.#.O..#.#.#.#....#.#.#.#....#.#.#.#....#.#.#.#....#  \n",
    ".#........#.#........X.#........#.#........#.#........#.#........#  \n",
    "#.##...#...#.##...#...#.X#...#...#.##...#...#.##...#...#.##...#...  \n",
    "#...##....##...##....##...#X....##...##....##...##....##...##....#  \n",
    ".#..#...#.#.#..#...#.#.#..#...X.#.#..#...#.#.#..#...#.#.#..#...#.#  --->  \n",
    "\n",
    "In this example, traversing the map using this slope would cause you to encounter 7 trees.\n",
    "\n",
    "Starting at the top-left corner of your map and following a slope of right 3 and down 1, how many trees would you encounter?"
   ]
  },
  {
   "cell_type": "code",
   "execution_count": 1,
   "metadata": {},
   "outputs": [],
   "source": [
    "file = open('input.txt', 'r')\n",
    "lines = file.readlines()"
   ]
  },
  {
   "cell_type": "code",
   "execution_count": 2,
   "metadata": {},
   "outputs": [
    {
     "data": {
      "text/plain": [
       "31"
      ]
     },
     "execution_count": 2,
     "metadata": {},
     "output_type": "execute_result"
    }
   ],
   "source": [
    "# Get length of each line\n",
    "pattern_length = len(lines[0]) - 1 # last char is new line\n",
    "pattern_length"
   ]
  },
  {
   "cell_type": "code",
   "execution_count": 3,
   "metadata": {},
   "outputs": [],
   "source": [
    "steps_right = 3\n",
    "tree_count = 0"
   ]
  },
  {
   "cell_type": "code",
   "execution_count": 4,
   "metadata": {
    "scrolled": true
   },
   "outputs": [],
   "source": [
    "pos = 0\n",
    "for i, line in enumerate(lines[1:]): #skip first line\n",
    "    pos = (pos + 3) % pattern_length\n",
    "    if (line[pos] == '#'):\n",
    "        tree_count += 1\n",
    "    #print(f\"Line: {i}, pos: {pos}, char: {line[pos]}, tree_count: {tree_count}\")"
   ]
  },
  {
   "cell_type": "code",
   "execution_count": 5,
   "metadata": {},
   "outputs": [
    {
     "name": "stdout",
     "output_type": "stream",
     "text": [
      "There are 205 trees.\n"
     ]
    }
   ],
   "source": [
    "print(f\"There are {tree_count} trees.\")"
   ]
  },
  {
   "cell_type": "markdown",
   "metadata": {},
   "source": [
    "## Part 2\n",
    "\n",
    "--- Part Two ---\n",
    "Time to check the rest of the slopes - you need to minimize the probability of a sudden arboreal stop, after all.\n",
    "\n",
    "Determine the number of trees you would encounter if, for each of the following slopes, you start at the top-left corner and traverse the map all the way to the bottom:\n",
    "\n",
    "Right 1, down 1.  \n",
    "Right 3, down 1. (This is the slope you already checked.)  \n",
    "Right 5, down 1.  \n",
    "Right 7, down 1.  \n",
    "Right 1, down 2.  \n",
    "\n",
    "In the above example, these slopes would find 2, 7, 3, 4, and 2 tree(s) respectively; multiplied together, these produce the answer 336.\n",
    "\n",
    "What do you get if you multiply together the number of trees encountered on each of the listed slopes?"
   ]
  },
  {
   "cell_type": "code",
   "execution_count": 6,
   "metadata": {},
   "outputs": [],
   "source": [
    "file = open('input.txt', 'r')\n",
    "lines = file.readlines()"
   ]
  },
  {
   "cell_type": "code",
   "execution_count": 7,
   "metadata": {},
   "outputs": [
    {
     "data": {
      "text/plain": [
       "31"
      ]
     },
     "execution_count": 7,
     "metadata": {},
     "output_type": "execute_result"
    }
   ],
   "source": [
    "# Get length of each line\n",
    "pattern_length = len(lines[0]) - 1 # last char is new line\n",
    "pattern_length"
   ]
  },
  {
   "cell_type": "code",
   "execution_count": 8,
   "metadata": {},
   "outputs": [],
   "source": [
    "slopes = {0: (1, 1),\n",
    "         1: (3, 1),\n",
    "         2: (5, 1),\n",
    "         3: (7, 1),\n",
    "         4: (1, 2)} # tuples: (right, down)\n",
    "\n",
    "tree_product = 1"
   ]
  },
  {
   "cell_type": "code",
   "execution_count": 9,
   "metadata": {},
   "outputs": [
    {
     "name": "stdout",
     "output_type": "stream",
     "text": [
      "\n",
      "Slope: 0, step_right: 1, step_down: 1\n",
      "\n",
      "Tree count: 87, tree_product: 87\n",
      "\n",
      "Slope: 1, step_right: 3, step_down: 1\n",
      "\n",
      "Tree count: 205, tree_product: 17835\n",
      "\n",
      "Slope: 2, step_right: 5, step_down: 1\n",
      "\n",
      "Tree count: 85, tree_product: 1515975\n",
      "\n",
      "Slope: 3, step_right: 7, step_down: 1\n",
      "\n",
      "Tree count: 79, tree_product: 119762025\n",
      "\n",
      "Slope: 4, step_right: 1, step_down: 2\n",
      "\n",
      "Tree count: 33, tree_product: 3952146825\n"
     ]
    }
   ],
   "source": [
    "for s, v in slopes.items():    \n",
    "    tree_count = 0\n",
    "    pos = 0\n",
    "    step_right = v[0]\n",
    "    step_down = v[1]\n",
    "    print(f\"\\nSlope: {s}, step_right: {step_right}, step_down: {step_down}\\n\")\n",
    "    for i, line in enumerate(lines):\n",
    "        if (i == 0 or i % step_down != 0):\n",
    "            continue\n",
    "        pos = (pos + step_right) % pattern_length\n",
    "        if (line[pos] == '#'):\n",
    "            tree_count += 1\n",
    "    tree_product = tree_product * tree_count\n",
    "    print(f\"Tree count: {tree_count}, tree_product: {tree_product}\")"
   ]
  },
  {
   "cell_type": "code",
   "execution_count": 10,
   "metadata": {},
   "outputs": [
    {
     "name": "stdout",
     "output_type": "stream",
     "text": [
      "The product is 3952146825.\n"
     ]
    }
   ],
   "source": [
    "print(f\"The product is {tree_product}.\")"
   ]
  }
 ],
 "metadata": {
  "kernelspec": {
   "display_name": "NLP-tensorflow",
   "language": "python",
   "name": "python3"
  },
  "language_info": {
   "codemirror_mode": {
    "name": "ipython",
    "version": 3
   },
   "file_extension": ".py",
   "mimetype": "text/x-python",
   "name": "python",
   "nbconvert_exporter": "python",
   "pygments_lexer": "ipython3",
   "version": "3.8.6"
  }
 },
 "nbformat": 4,
 "nbformat_minor": 4
}
