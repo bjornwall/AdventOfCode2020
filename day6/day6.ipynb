{
 "cells": [
  {
   "cell_type": "markdown",
   "metadata": {},
   "source": [
    "# Advent of Code 2020 - day 6\n",
    "\n",
    "As your flight approaches the regional airport where you'll switch to a much larger plane, customs declaration forms are distributed to the passengers.\n",
    "\n",
    "The form asks a series of 26 yes-or-no questions marked a through z. All you need to do is identify the questions for which anyone in your group answers \"yes\". Since your group is just you, this doesn't take very long.\n",
    "\n",
    "However, the person sitting next to you seems to be experiencing a language barrier and asks if you can help. For each of the people in their group, you write down the questions for which they answer \"yes\", one per line. For example:\n",
    "\n",
    "abcx\n",
    "abcy\n",
    "abcz\n",
    "In this group, there are 6 questions to which anyone answered \"yes\": a, b, c, x, y, and z. (Duplicate answers to the same question don't count extra; each question counts at most once.)\n",
    "\n",
    "Another group asks for your help, then another, and eventually you've collected answers from every group on the plane (your puzzle input). Each group's answers are separated by a blank line, and within each group, each person's answers are on a single line. For example:\n",
    "\n",
    "abc\n",
    "\n",
    "a\n",
    "b\n",
    "c\n",
    "\n",
    "ab\n",
    "ac\n",
    "\n",
    "a\n",
    "a\n",
    "a\n",
    "a\n",
    "\n",
    "b  \n",
    "\n",
    "This list represents answers from five groups:\n",
    "\n",
    "The first group contains one person who answered \"yes\" to 3 questions: a, b, and c.  \n",
    "The second group contains three people; combined, they answered \"yes\" to 3 questions: a, b, and c.  \n",
    "The third group contains two people; combined, they answered \"yes\" to 3 questions: a, b, and c.  \n",
    "The fourth group contains four people; combined, they answered \"yes\" to only 1 question, a.  \n",
    "The last group contains one person who answered \"yes\" to only 1 question, b.  \n",
    "In this example, the sum of these counts is 3 + 3 + 3 + 1 + 1 = 11.  \n",
    "\n",
    "For each group, count the number of questions to which anyone answered \"yes\". What is the sum of those counts?"
   ]
  },
  {
   "cell_type": "code",
   "execution_count": 8,
   "metadata": {},
   "outputs": [],
   "source": [
    "with open('input.txt', 'r', encoding = 'UTF-8') as file:\n",
    "    lines = file.readlines()"
   ]
  },
  {
   "cell_type": "code",
   "execution_count": 9,
   "metadata": {
    "scrolled": true
   },
   "outputs": [],
   "source": [
    "group_set = set()\n",
    "counts_list = []\n",
    "for line in lines:    \n",
    "    if(line == '\\n'):\n",
    "        group_len = len(group_set)\n",
    "        counts_list.append(group_len)\n",
    "        group_set = set()\n",
    "    group_set = group_set.union(set(line[:-1]))    \n",
    "\n",
    "group_len = len(group_set) # catch last sum\n",
    "counts_list.append(group_len)"
   ]
  },
  {
   "cell_type": "code",
   "execution_count": 10,
   "metadata": {},
   "outputs": [
    {
     "name": "stdout",
     "output_type": "stream",
     "text": [
      "There count sum is 6335.\n"
     ]
    }
   ],
   "source": [
    "print(f\"There count sum is {sum(counts_list)}.\")"
   ]
  },
  {
   "cell_type": "markdown",
   "metadata": {},
   "source": [
    "## Part 2\n",
    "\n",
    "As you finish the last group's customs declaration, you notice that you misread one word in the instructions:\n",
    "\n",
    "You don't need to identify the questions to which anyone answered \"yes\"; you need to identify the questions to which everyone answered \"yes\"!\n",
    "\n",
    "Using the same example as above:\n",
    "\n",
    "abc\n",
    "\n",
    "a\n",
    "b\n",
    "c\n",
    "\n",
    "ab\n",
    "ac\n",
    "\n",
    "a\n",
    "a\n",
    "a\n",
    "a\n",
    "\n",
    "b  \n",
    "\n",
    "This list represents answers from five groups:\n",
    "\n",
    "In the first group, everyone (all 1 person) answered \"yes\" to 3 questions: a, b, and c.  \n",
    "In the second group, there is no question to which everyone answered \"yes\".  \n",
    "In the third group, everyone answered yes to only 1 question, a. Since some people did not answer \"yes\" to b or c, they don't count.  \n",
    "In the fourth group, everyone answered yes to only 1 question, a.  \n",
    "In the fifth group, everyone (all 1 person) answered \"yes\" to 1 question, b.  \n",
    "\n",
    "In this example, the sum of these counts is 3 + 0 + 1 + 1 + 1 = 6.\n",
    "\n",
    "For each group, count the number of questions to which everyone answered \"yes\". What is the sum of those counts?"
   ]
  },
  {
   "cell_type": "code",
   "execution_count": 11,
   "metadata": {},
   "outputs": [],
   "source": [
    "with open('input.txt', 'r', encoding = 'UTF-8') as file:\n",
    "    lines = file.readlines()"
   ]
  },
  {
   "cell_type": "code",
   "execution_count": 12,
   "metadata": {
    "scrolled": true
   },
   "outputs": [],
   "source": [
    "gs_list = []\n",
    "counts_list = []\n",
    "for i, line in enumerate(lines):    \n",
    "    if(line == '\\n'):\n",
    "        group_set = set.intersection(*gs_list)\n",
    "        group_len = len(group_set)\n",
    "        counts_list.append(group_len)\n",
    "        gs_list = []\n",
    "    else:    \n",
    "        group_set = set(line[:-1])\n",
    "        gs_list.append(group_set)\n",
    "\n",
    "group_set = set.intersection(*gs_list)  # catch last sum\n",
    "group_len = len(group_set)\n",
    "counts_list.append(group_len)"
   ]
  },
  {
   "cell_type": "code",
   "execution_count": 13,
   "metadata": {},
   "outputs": [
    {
     "name": "stdout",
     "output_type": "stream",
     "text": [
      "There count sum is 3392.\n"
     ]
    }
   ],
   "source": [
    "print(f\"There count sum is {sum(counts_list)}.\")"
   ]
  }
 ],
 "metadata": {
  "kernelspec": {
   "display_name": "NLP-tensorflow",
   "language": "python",
   "name": "python3"
  },
  "language_info": {
   "codemirror_mode": {
    "name": "ipython",
    "version": 3
   },
   "file_extension": ".py",
   "mimetype": "text/x-python",
   "name": "python",
   "nbconvert_exporter": "python",
   "pygments_lexer": "ipython3",
   "version": "3.8.6"
  }
 },
 "nbformat": 4,
 "nbformat_minor": 4
}
