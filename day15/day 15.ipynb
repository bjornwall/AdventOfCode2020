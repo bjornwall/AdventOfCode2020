{
 "cells": [
  {
   "cell_type": "markdown",
   "metadata": {},
   "source": [
    "# Advent of code 2020 - day 15 - part 1\n",
    "\n",
    "--- Day 15: Rambunctious Recitation ---\n",
    "You catch the airport shuttle and try to book a new flight to your vacation island. Due to the storm, all direct flights have been cancelled, but a route is available to get around the storm. You take it.\n",
    "\n",
    "While you wait for your flight, you decide to check in with the Elves back at the North Pole. They're playing a memory game and are ever so excited to explain the rules!\n",
    "\n",
    "In this game, the players take turns saying numbers. They begin by taking turns reading from a list of starting numbers (your puzzle input). Then, each turn consists of considering the most recently spoken number:\n",
    "\n",
    "If that was the first time the number has been spoken, the current player says 0.\n",
    "Otherwise, the number had been spoken before; the current player announces how many turns apart the number is from when it was previously spoken.\n",
    "So, after the starting numbers, each turn results in that player speaking aloud either 0 (if the last number is new) or an age (if the last number is a repeat).\n",
    "\n",
    "For example, suppose the starting numbers are 0,3,6:\n",
    "\n",
    "Turn 1: The 1st number spoken is a starting number, 0.\n",
    "Turn 2: The 2nd number spoken is a starting number, 3.\n",
    "Turn 3: The 3rd number spoken is a starting number, 6.\n",
    "Turn 4: Now, consider the last number spoken, 6. Since that was the first time the number had been spoken, the 4th number spoken is 0.\n",
    "Turn 5: Next, again consider the last number spoken, 0. Since it had been spoken before, the next number to speak is the difference between the turn number when it was last spoken (the previous turn, 4) and the turn number of the time it was most recently spoken before then (turn 1). Thus, the 5th number spoken is 4 - 1, 3.\n",
    "Turn 6: The last number spoken, 3 had also been spoken before, most recently on turns 5 and 2. So, the 6th number spoken is 5 - 2, 3.\n",
    "Turn 7: Since 3 was just spoken twice in a row, and the last two turns are 1 turn apart, the 7th number spoken is 1.\n",
    "Turn 8: Since 1 is new, the 8th number spoken is 0.\n",
    "Turn 9: 0 was last spoken on turns 8 and 4, so the 9th number spoken is the difference between them, 4.\n",
    "Turn 10: 4 is new, so the 10th number spoken is 0.\n",
    "(The game ends when the Elves get sick of playing or dinner is ready, whichever comes first.)\n",
    "\n",
    "Their question for you is: what will be the 2020th number spoken? In the example above, the 2020th number spoken will be 436.\n",
    "\n",
    "Here are a few more examples:\n",
    "\n",
    "Given the starting numbers 1,3,2, the 2020th number spoken is 1.\n",
    "Given the starting numbers 2,1,3, the 2020th number spoken is 10.\n",
    "Given the starting numbers 1,2,3, the 2020th number spoken is 27.\n",
    "Given the starting numbers 2,3,1, the 2020th number spoken is 78.\n",
    "Given the starting numbers 3,2,1, the 2020th number spoken is 438.\n",
    "Given the starting numbers 3,1,2, the 2020th number spoken is 1836.\n",
    "Given your starting numbers, what will be the 2020th number spoken?\n",
    "\n",
    "Your puzzle input is 6,3,15,13,1,0."
   ]
  },
  {
   "cell_type": "code",
   "execution_count": 36,
   "metadata": {},
   "outputs": [],
   "source": [
    "def get_values_dict(start_turns):\n",
    "    values_dict = {} # key: the value spoken, value: the turn_ix when last spoken\n",
    "    for v, t in zip(start_turns[:-1], range(len(start_turns))[:-1]):\n",
    "        values_dict[v] = t\n",
    "    return values_dict"
   ]
  },
  {
   "cell_type": "code",
   "execution_count": 37,
   "metadata": {
    "scrolled": true
   },
   "outputs": [],
   "source": [
    "def run(turns, verbose = False):\n",
    "    values_dict = get_values_dict(turns)\n",
    "    turns_ix = len(turns) - 1 #2\n",
    "    if(verbose):\n",
    "        print(f\"values_dict: {values_dict}\")        \n",
    "    \n",
    "    while turns_ix < 2019:\n",
    "        last_value_spoken = turns[turns_ix] #2\n",
    "        if verbose:\n",
    "            print(f\"\\n{turns_ix}: last_value_spoken: {last_value_spoken}\")        \n",
    "        \n",
    "        turn_ix_last_spoken = values_dict.get(last_value_spoken, -1)\n",
    "        if verbose:\n",
    "            print(f\"turn_ix_last_spoken: {turn_ix_last_spoken}\")        \n",
    "            \n",
    "        if turn_ix_last_spoken == -1: # first time spoken\n",
    "            turns.append(0)\n",
    "        else:\n",
    "            new_value_spoken = turns_ix - turn_ix_last_spoken \n",
    "            turns.append(new_value_spoken)\n",
    "        \n",
    "        values_dict[last_value_spoken] = turns_ix\n",
    "        turns_ix += 1\n",
    "        \n",
    "        if verbose:\n",
    "            print(f\"turns: {turns}\") \n",
    "    \n",
    "    return turns"
   ]
  },
  {
   "cell_type": "code",
   "execution_count": 38,
   "metadata": {},
   "outputs": [
    {
     "data": {
      "text/plain": [
       "[6, 3, 15, 13, 1, 0]"
      ]
     },
     "execution_count": 38,
     "metadata": {},
     "output_type": "execute_result"
    }
   ],
   "source": [
    "turns = [6,3,15,13,1,0]\n",
    "turns"
   ]
  },
  {
   "cell_type": "code",
   "execution_count": 39,
   "metadata": {
    "scrolled": true
   },
   "outputs": [],
   "source": [
    "def test_single(turns, target, verbose = False):\n",
    "    turns = run(turns, verbose)\n",
    "    if verbose:\n",
    "            print(f\"turns[-1]: {turns[-1]}\")\n",
    "            print(f\"len(turns): {len(turns)}\")\n",
    "            print(f\"turns: {turns}\")\n",
    "    assert turns[-1] == target\n",
    "\n",
    "def test_all(verbose = False):\n",
    "    testturns = [[1,3,2], [2,1,3], [1,2,3], [2,3,1]]\n",
    "    targets = [1, 10, 27, 78]\n",
    "    for i, v in enumerate(zip(testturns, targets)):\n",
    "        if verbose:\n",
    "            print(f\"\\n{i}\")\n",
    "        test_single(v[0], v[1], verbose)\n",
    "        "
   ]
  },
  {
   "cell_type": "code",
   "execution_count": 40,
   "metadata": {
    "scrolled": true
   },
   "outputs": [],
   "source": [
    "test_all(verbose = False)"
   ]
  },
  {
   "cell_type": "code",
   "execution_count": 41,
   "metadata": {},
   "outputs": [
    {
     "data": {
      "text/plain": [
       "700"
      ]
     },
     "execution_count": 41,
     "metadata": {},
     "output_type": "execute_result"
    }
   ],
   "source": [
    "run(turns)[-1]"
   ]
  },
  {
   "cell_type": "markdown",
   "metadata": {},
   "source": [
    "# Part 2\n",
    "\n",
    "--- Part Two ---\n",
    "Impressed, the Elves issue you a challenge: determine the 30000000th number spoken. For example, given the same starting numbers as above:\n",
    "\n",
    "Given 0,3,6, the 30000000th number spoken is 175594.\n",
    "Given 1,3,2, the 30000000th number spoken is 2578.\n",
    "Given 2,1,3, the 30000000th number spoken is 3544142.\n",
    "Given 1,2,3, the 30000000th number spoken is 261214.\n",
    "Given 2,3,1, the 30000000th number spoken is 6895259.\n",
    "Given 3,2,1, the 30000000th number spoken is 18.\n",
    "Given 3,1,2, the 30000000th number spoken is 362.\n",
    "Given your starting numbers, what will be the 30000000th number spoken?"
   ]
  },
  {
   "cell_type": "code",
   "execution_count": 42,
   "metadata": {
    "scrolled": true
   },
   "outputs": [],
   "source": [
    "def run(turns, verbose = False):\n",
    "    values_dict = get_values_dict(turns)\n",
    "    turns_ix = len(turns) - 1 #2\n",
    "    if(verbose):\n",
    "        print(f\"values_dict: {values_dict}\")        \n",
    "    \n",
    "    last_value_spoken = turns[-1]\n",
    "    \n",
    "    while turns_ix < 30000000 - 1:\n",
    "        if verbose and turns_ix % 1000000 == 0:\n",
    "            print(f\"\\n{turns_ix}: last_value_spoken: {last_value_spoken}\")        \n",
    "        \n",
    "        turn_ix_last_spoken = values_dict.get(last_value_spoken, -1)\n",
    "        if verbose and turns_ix % 1000000 == 0:\n",
    "            print(f\"turn_ix_last_spoken: {turn_ix_last_spoken}\")        \n",
    "            \n",
    "        if turn_ix_last_spoken == -1: # first time spoken\n",
    "            new_value_spoken = 0\n",
    "        else:\n",
    "            new_value_spoken = turns_ix - turn_ix_last_spoken \n",
    "        \n",
    "        values_dict[last_value_spoken] = turns_ix\n",
    "        last_value_spoken = new_value_spoken\n",
    "        turns_ix += 1\n",
    "        \n",
    "        if verbose and turns_ix % 1000000 == 0:\n",
    "            print(f\"last_value_spoken: {last_value_spoken}\") \n",
    "    \n",
    "    if verbose:\n",
    "        print(f\"\\n{turns_ix}: last_value_spoken: {last_value_spoken}\")  \n",
    "        print(f\"turn_ix_last_spoken: {turn_ix_last_spoken}\")  \n",
    "    return last_value_spoken"
   ]
  },
  {
   "cell_type": "code",
   "execution_count": 43,
   "metadata": {
    "scrolled": true
   },
   "outputs": [],
   "source": [
    "def test_single(turns, target, verbose = False):\n",
    "    last_value_spoken = run(turns, verbose)\n",
    "    if verbose:\n",
    "            print(f\"last_value_spoken: {last_value_spoken}\")\n",
    "    assert last_value_spoken == target, f\"Value is {last_value_spoken}, target is {target}.\"\n",
    "\n",
    "def test_all(count, verbose = False):\n",
    "    testturns = [[0,3,6], [1,3,2], [2,1,3], [1,2,3]]\n",
    "    targets = [175594, 2578, 3544142, 261214]\n",
    "    assert count <= len(testturns) and count > 0\n",
    "    for i, v in enumerate(zip(testturns[:count], targets[:count])):\n",
    "        if verbose:\n",
    "            print(f\"\\n{i}\")\n",
    "        test_single(v[0], v[1], verbose)        "
   ]
  },
  {
   "cell_type": "code",
   "execution_count": 44,
   "metadata": {
    "scrolled": true
   },
   "outputs": [],
   "source": [
    "test_all(count = 1, verbose = False)"
   ]
  },
  {
   "cell_type": "code",
   "execution_count": 45,
   "metadata": {},
   "outputs": [],
   "source": [
    "last_value_spoken = run([6,3,15,13,1,0])"
   ]
  },
  {
   "cell_type": "code",
   "execution_count": 46,
   "metadata": {},
   "outputs": [
    {
     "data": {
      "text/plain": [
       "51358"
      ]
     },
     "execution_count": 46,
     "metadata": {},
     "output_type": "execute_result"
    }
   ],
   "source": [
    "last_value_spoken"
   ]
  }
 ],
 "metadata": {
  "kernelspec": {
   "display_name": "NLP-tensorflow",
   "language": "python",
   "name": "python3"
  },
  "language_info": {
   "codemirror_mode": {
    "name": "ipython",
    "version": 3
   },
   "file_extension": ".py",
   "mimetype": "text/x-python",
   "name": "python",
   "nbconvert_exporter": "python",
   "pygments_lexer": "ipython3",
   "version": "3.8.6"
  }
 },
 "nbformat": 4,
 "nbformat_minor": 4
}
