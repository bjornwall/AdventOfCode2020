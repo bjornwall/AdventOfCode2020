{
 "cells": [
  {
   "cell_type": "markdown",
   "metadata": {},
   "source": [
    "# Advent of code 2020 - day 8 - part 1\n",
    "\n",
    "--- Day 8: Handheld Halting ---\n",
    "Your flight to the major airline hub reaches cruising altitude without incident. While you consider checking the in-flight menu for one of those drinks that come with a little umbrella, you are interrupted by the kid sitting next to you.\n",
    "\n",
    "Their handheld game console won't turn on! They ask if you can take a look.\n",
    "\n",
    "You narrow the problem down to a strange infinite loop in the boot code (your puzzle input) of the device. You should be able to fix it, but first you need to be able to run the code in isolation.\n",
    "\n",
    "The boot code is represented as a text file with one instruction per line of text. Each instruction consists of an operation (acc, jmp, or nop) and an argument (a signed number like +4 or -20).\n",
    "\n",
    "acc increases or decreases a single global value called the accumulator by the value given in the argument. For example, acc +7 would increase the accumulator by 7. The accumulator starts at 0. After an acc instruction, the instruction immediately below it is executed next.\n",
    "jmp jumps to a new instruction relative to itself. The next instruction to execute is found using the argument as an offset from the jmp instruction; for example, jmp +2 would skip the next instruction, jmp +1 would continue to the instruction immediately below it, and jmp -20 would cause the instruction 20 lines above to be executed next.\n",
    "nop stands for No OPeration - it does nothing. The instruction immediately below it is executed next.\n",
    "For example, consider the following program:\n",
    "\n",
    "nop +0  \n",
    "acc +1  \n",
    "jmp +4  \n",
    "acc +3  \n",
    "jmp -3  \n",
    "acc -99  \n",
    "acc +1  \n",
    "jmp -4  \n",
    "acc +6  \n",
    "\n",
    "These instructions are visited in this order:\n",
    "\n",
    "nop +0  | 1  \n",
    "acc +1  | 2, 8(!)  \n",
    "jmp +4  | 3  \n",
    "acc +3  | 6  \n",
    "jmp -3  | 7  \n",
    "acc -99 |  \n",
    "acc +1  | 4  \n",
    "jmp -4  | 5  \n",
    "acc +6  |  \n",
    "\n",
    "First, the nop +0 does nothing. Then, the accumulator is increased from 0 to 1 (acc +1) and jmp +4 sets the next instruction to the other acc +1 near the bottom. After it increases the accumulator from 1 to 2, jmp -4 executes, setting the next instruction to the only acc +3. It sets the accumulator to 5, and jmp -3 causes the program to continue back at the first acc +1.\n",
    "\n",
    "This is an infinite loop: with this sequence of jumps, the program will run forever. The moment the program tries to run any instruction a second time, you know it will never terminate.\n",
    "\n",
    "Immediately before the program would run an instruction a second time, the value in the accumulator is 5.\n",
    "\n",
    "Run your copy of the boot code. Immediately before any instruction is executed a second time, what value is in the accumulator?"
   ]
  },
  {
   "cell_type": "code",
   "execution_count": 1,
   "metadata": {},
   "outputs": [],
   "source": [
    "def get_lines(filename):\n",
    "    with open(filename, 'r', encoding = 'UTF-8') as file:\n",
    "        lines = file.readlines()\n",
    "    return lines"
   ]
  },
  {
   "cell_type": "code",
   "execution_count": 2,
   "metadata": {},
   "outputs": [],
   "source": [
    "lines = get_lines('input.txt')"
   ]
  },
  {
   "cell_type": "code",
   "execution_count": 3,
   "metadata": {},
   "outputs": [],
   "source": [
    "def get_instructions(lines):\n",
    "    i_dict = {}\n",
    "    for i, l in enumerate(lines):\n",
    "        pieces = l.split()\n",
    "        i_dict[i] = [pieces[0], int(pieces[1]), False] # action, value, visited\n",
    "    return i_dict"
   ]
  },
  {
   "cell_type": "code",
   "execution_count": 4,
   "metadata": {},
   "outputs": [
    {
     "name": "stdout",
     "output_type": "stream",
     "text": [
      "Accumulator value is 1859.\n"
     ]
    }
   ],
   "source": [
    "instructions_dict = get_instructions(lines)\n",
    "accumulator = 0\n",
    "ix = 0\n",
    "loop_ix = 0\n",
    "\n",
    "while 1:    \n",
    "    inst = instructions_dict[ix] # [action, value, visited]\n",
    "    if inst[2]: # have we been here before?\n",
    "        print(f\"Accumulator value is {accumulator}.\")\n",
    "        break         \n",
    "        \n",
    "    if (inst[0] == 'nop'):        \n",
    "        ix += 1\n",
    "    elif (inst[0] == 'acc'):\n",
    "        accumulator += inst[1]\n",
    "        ix += 1\n",
    "    elif (inst[0] == 'jmp'):\n",
    "        ix += inst[1]\n",
    "    else:\n",
    "        raise ValueError\n",
    "        \n",
    "    instructions_dict[ix - 1] = [inst[0], inst[1], True]\n",
    "    loop_ix +=1"
   ]
  },
  {
   "cell_type": "markdown",
   "metadata": {},
   "source": [
    "# Part 2\n",
    "\n",
    "--- Part Two ---\n",
    "After some careful analysis, you believe that exactly one instruction is corrupted.\n",
    "\n",
    "Somewhere in the program, either a jmp is supposed to be a nop, or a nop is supposed to be a jmp. (No acc instructions were harmed in the corruption of this boot code.)\n",
    "\n",
    "The program is supposed to terminate by attempting to execute an instruction immediately after the last instruction in the file. By changing exactly one jmp or nop, you can repair the boot code and make it terminate correctly.\n",
    "\n",
    "For example, consider the same program from above:\n",
    "\n",
    "nop +0  \n",
    "acc +1  \n",
    "jmp +4  \n",
    "acc +3  \n",
    "jmp -3  \n",
    "acc -99  \n",
    "acc +1  \n",
    "jmp -4  \n",
    "acc +6  \n",
    "\n",
    "If you change the first instruction from nop +0 to jmp +0, it would create a single-instruction infinite loop, never leaving that instruction. If you change almost any of the jmp instructions, the program will still eventually find another jmp instruction and loop forever.\n",
    "\n",
    "However, if you change the second-to-last instruction (from jmp -4 to nop -4), the program terminates! The instructions are visited in this order:\n",
    "\n",
    "nop +0  | 1  \n",
    "acc +1  | 2  \n",
    "jmp +4  | 3  \n",
    "acc +3  |  \n",
    "jmp -3  |  \n",
    "acc -99 |  \n",
    "acc +1  | 4  \n",
    "nop -4  | 5  \n",
    "acc +6  | 6  \n",
    "\n",
    "After the last instruction (acc +6), the program terminates by attempting to run the instruction below the last instruction in the file. With this change, after the program terminates, the accumulator contains the value 8 (acc +1, acc +1, acc +6).\n",
    "\n",
    "Fix the program so that it terminates normally by changing exactly one jmp (to nop) or nop (to jmp). What is the value of the accumulator after the program terminates?"
   ]
  },
  {
   "cell_type": "markdown",
   "metadata": {},
   "source": [
    "## Solution"
   ]
  },
  {
   "cell_type": "code",
   "execution_count": 5,
   "metadata": {},
   "outputs": [],
   "source": [
    "def run_loop(instructions_dict):\n",
    "    accumulator = 0\n",
    "    max_ix = len(instructions_dict) - 1\n",
    "    ix = 0\n",
    "    loop_ix = 0\n",
    "    reason_code = -1 # 0 - repeat instruction, 1 - reached end of instructions\n",
    "\n",
    "    while True:    \n",
    "        inst = instructions_dict[ix] # [action, value, visited]\n",
    "    \n",
    "        if inst[2] or ix == max_ix: # have we been here before? or are we at the last instruction?\n",
    "            if (inst[2]):\n",
    "                reason_code = 0\n",
    "            else:\n",
    "                reason_code = 1\n",
    "                if (inst[0] == 'acc'):\n",
    "                    accumulator += inst[1]\n",
    "            break         \n",
    "\n",
    "        if (inst[0] == 'nop'):        \n",
    "            ix += 1\n",
    "        elif (inst[0] == 'acc'):\n",
    "            accumulator += inst[1]\n",
    "            ix += 1\n",
    "        elif (inst[0] == 'jmp'):\n",
    "            ix += inst[1]\n",
    "        else:\n",
    "            raise ValueError\n",
    "\n",
    "        instructions_dict[ix - 1] = [inst[0], inst[1], True]\n",
    "        loop_ix +=1\n",
    "\n",
    "    return accumulator, reason_code"
   ]
  },
  {
   "cell_type": "code",
   "execution_count": 6,
   "metadata": {},
   "outputs": [],
   "source": [
    "lines = get_lines('input.txt')\n",
    "instructions_dict = get_instructions(lines)"
   ]
  },
  {
   "cell_type": "code",
   "execution_count": 7,
   "metadata": {
    "scrolled": true
   },
   "outputs": [],
   "source": [
    "change_ix = [False] * len(instructions_dict) # keep track of which values have been tested (True)\n",
    "match_ix = -1\n",
    "\n",
    "for i, v in enumerate(change_ix):\n",
    "    inst = instructions_dict[i]\n",
    "    \n",
    "    if ((inst[0] == 'nop' and inst[1] == 0) or (inst[0] == 'acc')): # jmp 0 instructions create infinite loops, so no point changing nop 0 instructions, skip these\n",
    "        change_ix[i] = True\n",
    "        continue\n",
    "    else:\n",
    "        change_ix[i] = True\n",
    "        alt_instructions = instructions_dict.copy()\n",
    "        \n",
    "        if (inst[0] == 'nop'):\n",
    "            new_action = 'jmp'            \n",
    "        else:\n",
    "            new_action = 'nop'\n",
    "        alt_instructions[i] = [new_action, inst[1], inst[2]]\n",
    "        \n",
    "        acc_value, reason_code = run_loop(alt_instructions)\n",
    "        if (reason_code == 1):  \n",
    "            match_ix = i\n",
    "            break"
   ]
  },
  {
   "cell_type": "code",
   "execution_count": 8,
   "metadata": {},
   "outputs": [
    {
     "name": "stdout",
     "output_type": "stream",
     "text": [
      "Reached last line, accumulator value is 1235.\n"
     ]
    }
   ],
   "source": [
    "print(f\"Reached last line, accumulator value is {acc_value}.\")"
   ]
  },
  {
   "cell_type": "code",
   "execution_count": null,
   "metadata": {},
   "outputs": [],
   "source": []
  }
 ],
 "metadata": {
  "kernelspec": {
   "display_name": "NLP-tensorflow",
   "language": "python",
   "name": "python3"
  },
  "language_info": {
   "codemirror_mode": {
    "name": "ipython",
    "version": 3
   },
   "file_extension": ".py",
   "mimetype": "text/x-python",
   "name": "python",
   "nbconvert_exporter": "python",
   "pygments_lexer": "ipython3",
   "version": "3.8.6"
  }
 },
 "nbformat": 4,
 "nbformat_minor": 4
}
