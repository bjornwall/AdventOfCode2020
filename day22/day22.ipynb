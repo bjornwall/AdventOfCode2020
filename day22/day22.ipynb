{
 "cells": [
  {
   "cell_type": "markdown",
   "metadata": {},
   "source": [
    "# Advent of Code 2020 - day 22 - part 1"
   ]
  },
  {
   "cell_type": "code",
   "execution_count": 47,
   "metadata": {},
   "outputs": [],
   "source": [
    "p1 = [9, 2, 6, 3, 1]\n",
    "p2 = [5, 8, 4, 7, 10]"
   ]
  },
  {
   "cell_type": "code",
   "execution_count": 48,
   "metadata": {},
   "outputs": [],
   "source": [
    "def run_rounds(p1, p2, verbose = False):\n",
    "    round = 1\n",
    "    while not (len(p1) == 0 or len(p2) == 0):\n",
    "        top1 = p1.pop(0)\n",
    "        top2 = p2.pop(0)\n",
    "        if verbose:\n",
    "            print(f\"\\nround {round}: top1: {top1}, top2: {top2}\")\n",
    "        if (top1 > top2):\n",
    "            p1.extend([top1, top2])\n",
    "        else:\n",
    "            p2.extend([top2, top1])\n",
    "        if verbose:\n",
    "            print(f\"\\nround {round}: p1: {p1}, p2: {p2}\")\n",
    "        round +=1\n",
    "    if len(p1) != 0:\n",
    "        return 1, p1\n",
    "    else:\n",
    "        return 2, p2"
   ]
  },
  {
   "cell_type": "code",
   "execution_count": 49,
   "metadata": {
    "scrolled": true
   },
   "outputs": [],
   "source": [
    "player, cards = run_rounds(p1, p2)"
   ]
  },
  {
   "cell_type": "code",
   "execution_count": 50,
   "metadata": {},
   "outputs": [],
   "source": [
    "def score(deck):\n",
    "    points = list(range(len(deck), 0, -1))\n",
    "    return sum([a*b for a,b in zip(deck,points)])"
   ]
  },
  {
   "cell_type": "code",
   "execution_count": 51,
   "metadata": {},
   "outputs": [
    {
     "data": {
      "text/plain": [
       "306"
      ]
     },
     "execution_count": 51,
     "metadata": {},
     "output_type": "execute_result"
    }
   ],
   "source": [
    "score(cards)"
   ]
  },
  {
   "cell_type": "code",
   "execution_count": 52,
   "metadata": {},
   "outputs": [],
   "source": [
    "pf1 = [18,19,16,11,47,38,6,27,9,22,15,42,3,4,21,41,14,8,23,30,40,13,35,46,50]\n",
    "pf2 = [39,1,29,20,45,43,12,2,37,33,49,32,10,26,36,17,34,44,25,28,24,5,48,31,7]"
   ]
  },
  {
   "cell_type": "code",
   "execution_count": 53,
   "metadata": {},
   "outputs": [],
   "source": [
    "player, cards = run_rounds(pf1, pf2)"
   ]
  },
  {
   "cell_type": "code",
   "execution_count": 54,
   "metadata": {},
   "outputs": [
    {
     "data": {
      "text/plain": [
       "32824"
      ]
     },
     "execution_count": 54,
     "metadata": {},
     "output_type": "execute_result"
    }
   ],
   "source": [
    "score(cards)"
   ]
  },
  {
   "cell_type": "markdown",
   "metadata": {},
   "source": [
    "# Part 2"
   ]
  },
  {
   "cell_type": "code",
   "execution_count": 55,
   "metadata": {},
   "outputs": [],
   "source": [
    "def run_rounds2(p1, p2, game = 1, verbose = False):\n",
    "    \n",
    "    # new game\n",
    "    configs1 = {} # deck configurations player 1 for this game\n",
    "    configs2 = {}\n",
    "    rou = 1    \n",
    "    while not (len(p1) == 0 or len(p2) == 0): # start new round\n",
    "        winner = None\n",
    "        if verbose:\n",
    "            print(f\"\\ngame {game}, round {rou}:\")\n",
    "            print(f\"game {game}, round {rou}: p1: {p1}, p2: {p2}\")\n",
    "            print(f\"configs1 {configs1}, configs2 {configs2}:\")\n",
    "        if (configs1.get(tuple(p1), -1) != -1) or (configs2.get(tuple(p2), -1) != -1): # decks seen before, player 1 wins game\n",
    "            if verbose:\n",
    "                print(f\"Found duplicate deck config.\")\n",
    "            return 1, p1, p2\n",
    "        else: # add decks to seen configurations\n",
    "            configs1[tuple(p1)] = 1\n",
    "            configs2[tuple(p2)] = 1\n",
    "        \n",
    "        top1 = p1.pop(0)\n",
    "        top2 = p2.pop(0)\n",
    "        \n",
    "        if (len(p1) >= top1) and (len(p2) >= top2): # recurse into subgame\n",
    "            winner, _, _ = run_rounds2(p1 = p1[:top1], p2 = p2[:top2], game = game + 1, verbose = verbose)\n",
    "         \n",
    "        if winner == 1 or (winner is None and top1 > top2):\n",
    "            p1.extend([top1, top2])\n",
    "        else:\n",
    "            p2.extend([top2, top1])\n",
    "            \n",
    "        if verbose:\n",
    "            print(f\"game {game}, round {rou}: top1: {top1}, top2: {top2}\")            \n",
    "        \n",
    "        rou +=1\n",
    "            \n",
    "    if len(p1) != 0:\n",
    "        return 1, p1, p2\n",
    "    else:\n",
    "        return 2, p2, p1"
   ]
  },
  {
   "cell_type": "markdown",
   "metadata": {},
   "source": [
    "Test round:"
   ]
  },
  {
   "cell_type": "code",
   "execution_count": 56,
   "metadata": {},
   "outputs": [],
   "source": [
    "deck1 = [9, 2, 6, 3, 1]\n",
    "deck2 = [5, 8, 4, 7, 10]"
   ]
  },
  {
   "cell_type": "code",
   "execution_count": 57,
   "metadata": {
    "scrolled": true
   },
   "outputs": [
    {
     "name": "stdout",
     "output_type": "stream",
     "text": [
      "2\n"
     ]
    }
   ],
   "source": [
    "winner, wd, ld = run_rounds2(deck1, deck2)\n",
    "print(winner)"
   ]
  },
  {
   "cell_type": "code",
   "execution_count": 58,
   "metadata": {},
   "outputs": [
    {
     "data": {
      "text/plain": [
       "291"
      ]
     },
     "execution_count": 58,
     "metadata": {},
     "output_type": "execute_result"
    }
   ],
   "source": [
    "score(wd)"
   ]
  },
  {
   "cell_type": "markdown",
   "metadata": {},
   "source": [
    "Real round:"
   ]
  },
  {
   "cell_type": "code",
   "execution_count": 59,
   "metadata": {},
   "outputs": [],
   "source": [
    "pf1 = [18,19,16,11,47,38,6,27,9,22,15,42,3,4,21,41,14,8,23,30,40,13,35,46,50]\n",
    "pf2 = [39,1,29,20,45,43,12,2,37,33,49,32,10,26,36,17,34,44,25,28,24,5,48,31,7]"
   ]
  },
  {
   "cell_type": "code",
   "execution_count": 60,
   "metadata": {
    "scrolled": true
   },
   "outputs": [],
   "source": [
    "winner, wd, ld = run_rounds2(pf1, pf2)"
   ]
  },
  {
   "cell_type": "code",
   "execution_count": 61,
   "metadata": {},
   "outputs": [
    {
     "name": "stdout",
     "output_type": "stream",
     "text": [
      "1\n",
      "36515\n"
     ]
    }
   ],
   "source": [
    "print(winner)\n",
    "print(score(wd))"
   ]
  }
 ],
 "metadata": {
  "kernelspec": {
   "display_name": "tf-julab",
   "language": "python",
   "name": "python3"
  },
  "language_info": {
   "codemirror_mode": {
    "name": "ipython",
    "version": 3
   },
   "file_extension": ".py",
   "mimetype": "text/x-python",
   "name": "python",
   "nbconvert_exporter": "python",
   "pygments_lexer": "ipython3",
   "version": "3.8.5"
  }
 },
 "nbformat": 4,
 "nbformat_minor": 4
}
