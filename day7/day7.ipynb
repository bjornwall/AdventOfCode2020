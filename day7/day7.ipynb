{
 "cells": [
  {
   "cell_type": "markdown",
   "metadata": {},
   "source": [
    "# Advent of code 2020 - day 7 - part 1\n",
    "\n",
    "--- Day 7: Handy Haversacks ---\n",
    "You land at the regional airport in time for your next flight. In fact, it looks like you'll even have time to grab some food: all flights are currently delayed due to issues in luggage processing.\n",
    "\n",
    "Due to recent aviation regulations, many rules (your puzzle input) are being enforced about bags and their contents; bags must be color-coded and must contain specific quantities of other color-coded bags. Apparently, nobody responsible for these regulations considered how long they would take to enforce!\n",
    "\n",
    "For example, consider the following rules:\n",
    "\n",
    "light red bags contain 1 bright white bag, 2 muted yellow bags.\n",
    "dark orange bags contain 3 bright white bags, 4 muted yellow bags.\n",
    "bright white bags contain 1 shiny gold bag.\n",
    "muted yellow bags contain 2 shiny gold bags, 9 faded blue bags.\n",
    "shiny gold bags contain 1 dark olive bag, 2 vibrant plum bags.\n",
    "dark olive bags contain 3 faded blue bags, 4 dotted black bags.\n",
    "vibrant plum bags contain 5 faded blue bags, 6 dotted black bags.\n",
    "faded blue bags contain no other bags.\n",
    "dotted black bags contain no other bags.\n",
    "These rules specify the required contents for 9 bag types. In this example, every faded blue bag is empty, every vibrant plum bag contains 11 bags (5 faded blue and 6 dotted black), and so on.\n",
    "\n",
    "You have a shiny gold bag. If you wanted to carry it in at least one other bag, how many different bag colors would be valid for the outermost bag? (In other words: how many colors can, eventually, contain at least one shiny gold bag?)\n",
    "\n",
    "In the above rules, the following options would be available to you:\n",
    "\n",
    "A bright white bag, which can hold your shiny gold bag directly.\n",
    "A muted yellow bag, which can hold your shiny gold bag directly, plus some other bags.\n",
    "A dark orange bag, which can hold bright white and muted yellow bags, either of which could then hold your shiny gold bag.\n",
    "A light red bag, which can hold bright white and muted yellow bags, either of which could then hold your shiny gold bag.\n",
    "So, in this example, the number of bag colors that can eventually contain at least one shiny gold bag is 4.\n",
    "\n",
    "How many bag colors can eventually contain at least one shiny gold bag? (The list of rules is quite long; make sure you get all of it.)"
   ]
  },
  {
   "cell_type": "code",
   "execution_count": 1,
   "metadata": {},
   "outputs": [],
   "source": [
    "import re"
   ]
  },
  {
   "cell_type": "code",
   "execution_count": 2,
   "metadata": {},
   "outputs": [],
   "source": [
    "def get_bag_types(filename):\n",
    "    with open(filename, 'r', encoding = 'UTF-8') as file:\n",
    "        lines = file.readlines()\n",
    "\n",
    "    bag_types = {}\n",
    "    for i, line in enumerate(lines):        \n",
    "        bag_raw = line.split('contain')\n",
    "        bag_color_words = re.search(r'(.+) $', bag_raw[0])[0].strip().split()\n",
    "        bag_color = bag_color_words[0] + ' ' + bag_color_words[1]\n",
    "        bag_contents = bag_raw[1].split(',')\n",
    "        content_list = []\n",
    "        for bc in [bc.strip().replace('.','') for bc in bag_contents]:\n",
    "            match = re.search(r'([0-9])', bc)\n",
    "            if match:\n",
    "                q = match[0]\n",
    "                pieces = bc.split()\n",
    "                n = pieces[1] + ' ' + pieces[2]\n",
    "                content_list.append((n, q))\n",
    "            else:\n",
    "                q = 0\n",
    "\n",
    "        bag_types[bag_color] = content_list\n",
    "    \n",
    "    return bag_types"
   ]
  },
  {
   "cell_type": "code",
   "execution_count": 3,
   "metadata": {},
   "outputs": [],
   "source": [
    "def get_bag_types_that_contain_colorx(bag_types_dict, colorx):\n",
    "    matching_bag_types_list = []\n",
    "    remaining_bag_types_dict = bag_types_dict.copy()\n",
    "    for k, v in bag_types_dict.items(): # for each bag type\n",
    "        for j, c in enumerate(v): # for each content type\n",
    "            if(c[0] == colorx):                \n",
    "                matching_bag_types_list.append(k)\n",
    "                remaining_bag_types_dict.pop(k)\n",
    "    matching_bag_types_list = list(set(matching_bag_types_list)) # remove any duplicates\n",
    "    \n",
    "    return matching_bag_types_list, remaining_bag_types_dict"
   ]
  },
  {
   "cell_type": "code",
   "execution_count": 4,
   "metadata": {},
   "outputs": [],
   "source": [
    "all_bag_types_dict = get_bag_types('input.txt')"
   ]
  },
  {
   "cell_type": "code",
   "execution_count": 5,
   "metadata": {},
   "outputs": [],
   "source": [
    "total_types_list = []\n",
    "remaining_bag_types_dict = all_bag_types_dict\n",
    "colors_to_look_for = ['shiny gold']"
   ]
  },
  {
   "cell_type": "code",
   "execution_count": 6,
   "metadata": {
    "scrolled": true
   },
   "outputs": [],
   "source": [
    "while len(colors_to_look_for) > 0:\n",
    "    newfound_matches = []\n",
    "    for i, color in enumerate(colors_to_look_for):\n",
    "        matching_bag_types_list, remaining_bag_types_dict = get_bag_types_that_contain_colorx(remaining_bag_types_dict, color)\n",
    "        newfound_matches.extend(matching_bag_types_list)\n",
    "    colors_to_look_for = newfound_matches\n",
    "    total_types_list.extend(newfound_matches)\n",
    "total_types_list = list(set(total_types_list))  "
   ]
  },
  {
   "cell_type": "code",
   "execution_count": 7,
   "metadata": {},
   "outputs": [
    {
     "name": "stdout",
     "output_type": "stream",
     "text": [
      "A total of 268 bag types can contain shiny golden bags.\n"
     ]
    }
   ],
   "source": [
    "print(f\"A total of {len(total_types_list)} bag types can contain shiny golden bags.\")"
   ]
  },
  {
   "cell_type": "markdown",
   "metadata": {},
   "source": [
    "# Part 2\n",
    "\n",
    "--- Part Two ---\n",
    "It's getting pretty expensive to fly these days - not because of ticket prices, but because of the ridiculous number of bags you need to buy!\n",
    "\n",
    "Consider again your shiny gold bag and the rules from the above example:\n",
    "\n",
    "faded blue bags contain 0 other bags.\n",
    "dotted black bags contain 0 other bags.\n",
    "vibrant plum bags contain 11 other bags: 5 faded blue bags and 6 dotted black bags.\n",
    "dark olive bags contain 7 other bags: 3 faded blue bags and 4 dotted black bags.\n",
    "So, a single shiny gold bag must contain 1 dark olive bag (and the 7 bags within it) plus 2 vibrant plum bags (and the 11 bags within each of those): 1 + 1*7 + 2 + 2*11 = 32 bags!\n",
    "\n",
    "Of course, the actual rules have a small chance of going several levels deeper than this example; be sure to count all of the bags, even if the nesting becomes topologically impractical!\n",
    "\n",
    "Here's another example:\n",
    "\n",
    "shiny gold bags contain 2 dark red bags.\n",
    "dark red bags contain 2 dark orange bags.\n",
    "dark orange bags contain 2 dark yellow bags.\n",
    "dark yellow bags contain 2 dark green bags.\n",
    "dark green bags contain 2 dark blue bags.\n",
    "dark blue bags contain 2 dark violet bags.\n",
    "dark violet bags contain no other bags.\n",
    "In this example, a single shiny gold bag must contain 126 other bags.\n",
    "\n",
    "How many individual bags are required inside your single shiny gold bag?"
   ]
  },
  {
   "cell_type": "code",
   "execution_count": 8,
   "metadata": {},
   "outputs": [],
   "source": [
    "all_bag_types_dict = get_bag_types('input.txt')\n",
    "colors_to_look_for = ['shiny gold']\n",
    "total_bag_count = 0 # the shiny gold bag doesn't count"
   ]
  },
  {
   "cell_type": "code",
   "execution_count": 9,
   "metadata": {},
   "outputs": [],
   "source": [
    "def get_bag_content_count(all_bag_types_dict, color):\n",
    "    bag_content_count = 0 # the input bag we're looking in\n",
    "    sub_bags = all_bag_types_dict.get(color)    \n",
    "    for i, v in enumerate(sub_bags): # v is a list of bag tuples\n",
    "        count = int(v[1])\n",
    "        bag_content_count += count\n",
    "        if count != 0:            \n",
    "            bag_content_count += count * get_bag_content_count(all_bag_types_dict, v[0])\n",
    "    return bag_content_count"
   ]
  },
  {
   "cell_type": "code",
   "execution_count": 10,
   "metadata": {},
   "outputs": [],
   "source": [
    "for i, color in enumerate(colors_to_look_for):\n",
    "    total_bag_count += get_bag_content_count(all_bag_types_dict, color)"
   ]
  },
  {
   "cell_type": "code",
   "execution_count": 11,
   "metadata": {},
   "outputs": [
    {
     "name": "stdout",
     "output_type": "stream",
     "text": [
      "The total bag count is 7867.\n"
     ]
    }
   ],
   "source": [
    "print(f\"The total bag count is {total_bag_count}.\")"
   ]
  }
 ],
 "metadata": {
  "kernelspec": {
   "display_name": "NLP-tensorflow",
   "language": "python",
   "name": "python3"
  },
  "language_info": {
   "codemirror_mode": {
    "name": "ipython",
    "version": 3
   },
   "file_extension": ".py",
   "mimetype": "text/x-python",
   "name": "python",
   "nbconvert_exporter": "python",
   "pygments_lexer": "ipython3",
   "version": "3.8.6"
  }
 },
 "nbformat": 4,
 "nbformat_minor": 4
}
