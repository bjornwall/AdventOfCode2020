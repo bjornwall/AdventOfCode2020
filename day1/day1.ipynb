{
 "cells": [
  {
   "cell_type": "markdown",
   "metadata": {},
   "source": [
    "# 2020 Advent of code - Day 1\n",
    "\n",
    "https://adventofcode.com/2020"
   ]
  },
  {
   "cell_type": "markdown",
   "metadata": {},
   "source": [
    "## Part 1"
   ]
  },
  {
   "cell_type": "markdown",
   "metadata": {},
   "source": [
    "--- Day 1: Report Repair ---\n",
    "After saving Christmas five years in a row, you've decided to take a vacation at a nice resort on a tropical island. Surely, Christmas will go on without you.\n",
    "\n",
    "The tropical island has its own currency and is entirely cash-only. The gold coins used there have a little picture of a starfish; the locals just call them stars. None of the currency exchanges seem to have heard of them, but somehow, you'll need to find fifty of these coins by the time you arrive so you can pay the deposit on your room.\n",
    "\n",
    "To save your vacation, you need to get all fifty stars by December 25th.\n",
    "\n",
    "Collect stars by solving puzzles. Two puzzles will be made available on each day in the Advent calendar; the second puzzle is unlocked when you complete the first. Each puzzle grants one star. Good luck!\n",
    "\n",
    "Before you leave, the Elves in accounting just need you to fix your expense report (your puzzle input); apparently, something isn't quite adding up.\n",
    "\n",
    "Specifically, they need you to find the two entries that sum to 2020 and then multiply those two numbers together.\n",
    "\n",
    "For example, suppose your expense report contained the following:\n",
    "\n",
    "1721  \n",
    "979  \n",
    "366  \n",
    "299  \n",
    "675  \n",
    "1456  \n",
    "\n",
    "In this list, the two entries that sum to 2020 are 1721 and 299. Multiplying them together produces 1721 * 299 = 514579, so the correct answer is 514579.\n",
    "\n",
    "Of course, your expense report is much larger. Find the two entries that sum to 2020; what do you get if you multiply them together?"
   ]
  },
  {
   "cell_type": "code",
   "execution_count": 1,
   "metadata": {},
   "outputs": [],
   "source": [
    "import pandas as pd\n",
    "import matplotlib.pyplot as plt"
   ]
  },
  {
   "cell_type": "code",
   "execution_count": 2,
   "metadata": {},
   "outputs": [],
   "source": [
    "df = pd.read_excel('data.xlsx')\n",
    "datalist = df['numbers'].tolist()"
   ]
  },
  {
   "cell_type": "code",
   "execution_count": 3,
   "metadata": {
    "scrolled": true
   },
   "outputs": [],
   "source": [
    "b = -1\n",
    "while (len(datalist) > 1):\n",
    "    a = datalist[0]\n",
    "    candidates = datalist[1:]\n",
    "    datalist.pop(0)\n",
    "    \n",
    "    for i, b in enumerate(candidates):\n",
    "        if (a + b == 2020):\n",
    "            datalist = [] # drop list to end outer while loop\n",
    "            break # break out of if loop        "
   ]
  },
  {
   "cell_type": "code",
   "execution_count": 4,
   "metadata": {},
   "outputs": [
    {
     "name": "stdout",
     "output_type": "stream",
     "text": [
      "The numbers are: 586 and 1434\n"
     ]
    }
   ],
   "source": [
    "if (b != -1):\n",
    "    print(f\"The numbers are: {a} and {b}\")\n",
    "else:\n",
    "    print(f\"No matches found.\")"
   ]
  },
  {
   "cell_type": "markdown",
   "metadata": {},
   "source": [
    "Multiply the numbers to get the result:"
   ]
  },
  {
   "cell_type": "code",
   "execution_count": 5,
   "metadata": {},
   "outputs": [
    {
     "name": "stdout",
     "output_type": "stream",
     "text": [
      "The result is 840324.\n"
     ]
    }
   ],
   "source": [
    "print(f\"The result is {a*b}.\")"
   ]
  },
  {
   "cell_type": "markdown",
   "metadata": {},
   "source": [
    "## Part 2\n",
    "\n",
    "--- Part Two ---\n",
    "The Elves in accounting are thankful for your help; one of them even offers you a starfish coin they had left over from a past vacation. They offer you a second one if you can find three numbers in your expense report that meet the same criteria.  \n",
    "\n",
    "Using the above example again, the three entries that sum to 2020 are 979, 366, and 675.  \n",
    "Multiplying them together produces the answer, 241861950.  \n",
    "\n",
    "In your expense report, what is the product of the three entries that sum to 2020?"
   ]
  },
  {
   "cell_type": "markdown",
   "metadata": {},
   "source": [
    "### Solution\n",
    "\n",
    "First, how is the data distributed?"
   ]
  },
  {
   "cell_type": "code",
   "execution_count": 6,
   "metadata": {},
   "outputs": [],
   "source": [
    "df = pd.read_excel('data.xlsx') # can also index sheet by name or fetch all sheets\n",
    "datalist = df['numbers'].tolist()"
   ]
  },
  {
   "cell_type": "code",
   "execution_count": 7,
   "metadata": {},
   "outputs": [
    {
     "name": "stdout",
     "output_type": "stream",
     "text": [
      "There are 200 values between 71 and 2010.\n"
     ]
    }
   ],
   "source": [
    "print(f\"There are {len(datalist)} values between {min(datalist)} and {max(datalist)}.\")"
   ]
  },
  {
   "cell_type": "code",
   "execution_count": 8,
   "metadata": {},
   "outputs": [
    {
     "data": {
      "image/png": "[encoded data removed]",
      "text/plain": [
       "<Figure size 432x288 with 1 Axes>"
      ]
     },
     "metadata": {
      "needs_background": "light"
     },
     "output_type": "display_data"
    }
   ],
   "source": [
    "#plt.hist(datalist, bins = number of bins)\n",
    "plt.hist(datalist)\n",
    "plt.show()"
   ]
  },
  {
   "cell_type": "markdown",
   "metadata": {},
   "source": [
    "Are there any duplicate values?"
   ]
  },
  {
   "cell_type": "code",
   "execution_count": 9,
   "metadata": {},
   "outputs": [
    {
     "name": "stdout",
     "output_type": "stream",
     "text": [
      "False\n"
     ]
    }
   ],
   "source": [
    "contains_duplicates = any(datalist.count(element) > 1 for element in datalist)\n",
    "print(contains_duplicates)"
   ]
  },
  {
   "cell_type": "markdown",
   "metadata": {},
   "source": [
    "So if the first value is 2010, the sum of the remaining two must be 10, so to save time, no use in looking at numbers larger than 9.\n",
    "\n",
    "Start by sorting the list, largest value first."
   ]
  },
  {
   "cell_type": "code",
   "execution_count": 10,
   "metadata": {},
   "outputs": [],
   "source": [
    "dl = sorted(datalist, reverse = True)"
   ]
  },
  {
   "cell_type": "code",
   "execution_count": 11,
   "metadata": {
    "scrolled": true
   },
   "outputs": [],
   "source": [
    "b = -1\n",
    "c = -1\n",
    "match_found = False\n",
    "while (len(dl) > 2):\n",
    "    a = dl[0] # largest remaining value    \n",
    "    candidates = [v for v in dl[1:] if v <= 2020 - a - 1]\n",
    "    dl.pop(0)\n",
    "    \n",
    "    while (len(candidates) > 1):\n",
    "        b = candidates[0]\n",
    "        inner_list = candidates[1:]\n",
    "        candidates.pop(0)\n",
    "        \n",
    "        while (len(inner_list) > 0):\n",
    "            c = inner_list[0]\n",
    "            inner_list.pop(0)\n",
    "            \n",
    "            if (a + b + c == 2020):\n",
    "                dl = [] # drop list to end outer while loop\n",
    "                candidates = []\n",
    "                inner_list = []\n",
    "                match_found = True\n",
    "                break # break out of if loop"
   ]
  },
  {
   "cell_type": "code",
   "execution_count": 12,
   "metadata": {},
   "outputs": [
    {
     "name": "stdout",
     "output_type": "stream",
     "text": [
      "The numbers are: 910 and 903 and 207, and the product is 170098110.\n"
     ]
    }
   ],
   "source": [
    "if (match_found):\n",
    "    print(f\"The numbers are: {a} and {b} and {c}, and the product is {a*b*c}.\")\n",
    "else:\n",
    "    print(f\"No matches found.\")"
   ]
  },
  {
   "cell_type": "code",
   "execution_count": null,
   "metadata": {},
   "outputs": [],
   "source": []
  }
 ],
 "metadata": {
  "kernelspec": {
   "display_name": "NLP-tensorflow",
   "language": "python",
   "name": "python3"
  },
  "language_info": {
   "codemirror_mode": {
    "name": "ipython",
    "version": 3
   },
   "file_extension": ".py",
   "mimetype": "text/x-python",
   "name": "python",
   "nbconvert_exporter": "python",
   "pygments_lexer": "ipython3",
   "version": "3.8.6"
  }
 },
 "nbformat": 4,
 "nbformat_minor": 4
}
